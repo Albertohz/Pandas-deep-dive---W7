{
  "nbformat": 4,
  "nbformat_minor": 0,
  "metadata": {
    "colab": {
      "provenance": []
    },
    "kernelspec": {
      "name": "python3",
      "display_name": "Python 3"
    },
    "language_info": {
      "name": "python"
    }
  },
  "cells": [
    {
      "cell_type": "code",
      "execution_count": 1,
      "metadata": {
        "id": "hlTcsRUqeCxQ"
      },
      "outputs": [],
      "source": [
        "import pandas as pd\n"
      ]
    },
    {
      "cell_type": "code",
      "source": [
        "df = pd.read_csv('apple_store (1).csv')"
      ],
      "metadata": {
        "id": "3nNHqdGzfZag"
      },
      "execution_count": 2,
      "outputs": []
    },
    {
      "cell_type": "code",
      "source": [
        "print(df.dtypes)"
      ],
      "metadata": {
        "colab": {
          "base_uri": "https://localhost:8080/"
        },
        "id": "Zz7N5OTCfm1A",
        "outputId": "8503bc2e-9e5f-49ef-8864-2a3e637fb1ad"
      },
      "execution_count": 3,
      "outputs": [
        {
          "output_type": "stream",
          "name": "stdout",
          "text": [
            "id                    int64\n",
            "track_name           object\n",
            "size_bytes            int64\n",
            "price               float64\n",
            "rating_count_tot      int64\n",
            "rating_count_ver      int64\n",
            "user_rating         float64\n",
            "user_rating_ver     float64\n",
            "prime_genre          object\n",
            "dtype: object\n"
          ]
        }
      ]
    },
    {
      "cell_type": "code",
      "source": [
        "print(df.head())"
      ],
      "metadata": {
        "id": "RwyReEbUfo65"
      },
      "execution_count": null,
      "outputs": []
    },
    {
      "cell_type": "code",
      "source": [
        "print(df.tail())"
      ],
      "metadata": {
        "id": "YgFSFiSWfqfk"
      },
      "execution_count": null,
      "outputs": []
    },
    {
      "cell_type": "code",
      "source": [
        "print(df.describe())"
      ],
      "metadata": {
        "id": "fcuQfENTfr58"
      },
      "execution_count": null,
      "outputs": []
    },
    {
      "cell_type": "code",
      "source": [
        "# How many apps are there in the data source?\n",
        "num_apps = len(df)\n",
        "print(\"Number of apps:\", num_apps)"
      ],
      "metadata": {
        "colab": {
          "base_uri": "https://localhost:8080/"
        },
        "id": "H13dBXAnf68S",
        "outputId": "dcfb0cd2-57b8-4293-d1fd-b33cc54c6d29"
      },
      "execution_count": 7,
      "outputs": [
        {
          "output_type": "stream",
          "name": "stdout",
          "text": [
            "Number of apps: 7197\n"
          ]
        }
      ]
    },
    {
      "cell_type": "code",
      "source": [
        "# What is the average rating of all apps?\n",
        "average_rating = df['user_rating'].mean()\n",
        "print(\"Average rating of all apps:\", average_rating)"
      ],
      "metadata": {
        "colab": {
          "base_uri": "https://localhost:8080/"
        },
        "id": "nbfxjLTtf9vV",
        "outputId": "d6f4dda8-bcac-4e46-f551-d00ec97cadc6"
      },
      "execution_count": 8,
      "outputs": [
        {
          "output_type": "stream",
          "name": "stdout",
          "text": [
            "Average rating of all apps: 3.526955675976101\n"
          ]
        }
      ]
    },
    {
      "cell_type": "code",
      "source": [
        "# How many apps have an average rating no less than 4?\n",
        "high_rated_apps = df[df['user_rating'] >= 4]\n",
        "num_high_rated_apps = len(high_rated_apps)\n",
        "print(\"Number of apps with an average rating of 4 or higher:\", num_high_rated_apps)"
      ],
      "metadata": {
        "colab": {
          "base_uri": "https://localhost:8080/"
        },
        "id": "-cWiiWa8gCff",
        "outputId": "37529232-1ac3-4979-e9fb-eb00a80025d7"
      },
      "execution_count": 9,
      "outputs": [
        {
          "output_type": "stream",
          "name": "stdout",
          "text": [
            "Number of apps with an average rating of 4 or higher: 4781\n"
          ]
        }
      ]
    },
    {
      "cell_type": "code",
      "source": [
        "# What are the top 3 genres that have the most number of apps?\n",
        "top_genres = df['prime_genre'].value_counts().head(3)\n",
        "print(\"Top 3 genres with the most number of apps:\")\n",
        "print(top_genres)\n"
      ],
      "metadata": {
        "colab": {
          "base_uri": "https://localhost:8080/"
        },
        "id": "j6m1aLEkgCct",
        "outputId": "0305e40e-9267-4583-c4d6-c9058410f4ad"
      },
      "execution_count": 10,
      "outputs": [
        {
          "output_type": "stream",
          "name": "stdout",
          "text": [
            "Top 3 genres with the most number of apps:\n",
            "Games            3862\n",
            "Entertainment     535\n",
            "Education         453\n",
            "Name: prime_genre, dtype: int64\n"
          ]
        }
      ]
    },
    {
      "cell_type": "code",
      "source": [
        "# Which genre is most likely to contain free apps?\n",
        "# I need to follow a few steps to reach to that conclussion\n",
        "#1. I group by genre and count the number of apps in each one\n",
        "genre_counts = df['prime_genre'].value_counts()\n",
        "\n",
        "# 2. I create a df to store those counts\n",
        "free_apps_by_genre = df[df['price'] == 0]['prime_genre'].value_counts()\n",
        "\n",
        "# 3. I calculate % of free apps in each one\n",
        "percentage_free_apps = (free_apps_by_genre / genre_counts) * 100\n",
        "\n",
        "# and then I look for the max\n",
        "most_free_genre = percentage_free_apps.idxmax()\n",
        "print(\"Genre most likely to contain free apps:\", most_free_genre)\n"
      ],
      "metadata": {
        "colab": {
          "base_uri": "https://localhost:8080/"
        },
        "id": "LHbZcM1xgCWJ",
        "outputId": "0f514398-6967-4631-b00b-4d88d0a1de58"
      },
      "execution_count": 11,
      "outputs": [
        {
          "output_type": "stream",
          "name": "stdout",
          "text": [
            "Genre most likely to contain free apps: Shopping\n"
          ]
        }
      ]
    },
    {
      "cell_type": "code",
      "source": [
        "# If a developer tries to make money by developing and selling Apple Store apps, in which genre should s/he develop the apps?\n",
        "# Please assume all apps cost the same amount of time and expense to develop.\n"
      ],
      "metadata": {
        "id": "N8xP-6XpgCTg"
      },
      "execution_count": null,
      "outputs": []
    },
    {
      "cell_type": "code",
      "source": [
        "# I follow a similar logi\n",
        "# avg prices per genre\n",
        "average_price_by_genre = df.groupby('prime_genre')['price'].mean()\n",
        "\n",
        "# the count\n",
        "app_counts_by_genre = df['prime_genre'].value_counts()\n",
        "\n",
        "# Create a combine df\n",
        "summary = pd.DataFrame({'Average_Price': average_price_by_genre, 'App_Count': app_counts_by_genre})\n",
        "\n",
        "# i put a threshold, for example 80 (adjust threshold as needed)\n",
        "threshold = 80\n",
        "filtered_summary = summary[summary['App_Count'] > threshold]\n",
        "\n",
        "# sort by avg price\n",
        "sorted_summary = filtered_summary.sort_values(by='Average_Price', ascending=False)\n",
        "\n",
        "# Statement\n",
        "top_genre = sorted_summary.head(1)\n",
        "print(\"Genre with a potentially higher chance of making money:\", top_genre.index[0])\n"
      ],
      "metadata": {
        "colab": {
          "base_uri": "https://localhost:8080/"
        },
        "id": "6M26UCG9gCQU",
        "outputId": "c055d7aa-ddc3-4ef5-c044-9edde4026e0d"
      },
      "execution_count": 12,
      "outputs": [
        {
          "output_type": "stream",
          "name": "stdout",
          "text": [
            "Genre with a potentially higher chance of making money: Music\n"
          ]
        }
      ]
    }
  ]
}